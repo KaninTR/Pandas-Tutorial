{
 "cells": [
  {
   "cell_type": "markdown",
   "metadata": {},
   "source": [
    "# Case Study - MovieLens\n"
   ]
  },
  {
   "cell_type": "markdown",
   "metadata": {
    "collapsed": true
   },
   "source": [
    "To show pandas in a more \"applied\" sense, let's use it to answer some questions about the [MovieLens](http://www.grouplens.org/datasets/movielens/) dataset.<br>\n",
    "The dataset contains 100,000 ratings made by 943 users on 1,682 movies.\n",
    "\n",
    "The MovieLens data is a good example for this because it has a lot of inter-ralationships that will requiere joining/grouping :\n",
    "- the datasets `users` and `ratings` are linked together by a key (in this case, the `user_id` and `movie_id`).\n",
    "- a rating requires both a user and a movie.\n",
    "- a user can be associated with zero or many ratings and movies. \n",
    "- a movie can be rated zero or many times, by a number of different users.\n"
   ]
  },
  {
   "cell_type": "code",
   "execution_count": 2,
   "metadata": {
    "collapsed": true
   },
   "outputs": [],
   "source": [
    "import pandas as pd\n",
    "import numpy as np\n",
    "import matplotlib.pyplot as plt\n",
    "pd.set_option('max_columns', 50)"
   ]
  },
  {
   "cell_type": "code",
   "execution_count": 3,
   "metadata": {
    "collapsed": true
   },
   "outputs": [],
   "source": [
    "# pass in column names for each CSV\n",
    "u_cols = ['user_id', 'age', 'sex', 'occupation', 'zip_code']\n",
    "users = pd.read_csv('data/ml-100k/u.user', sep='|', names=u_cols)\n",
    "\n",
    "r_cols = ['user_id', 'movie_id', 'rating', 'unix_timestamp']\n",
    "ratings = pd.read_csv('data/ml-100k/u.data', sep='\\t', names=r_cols)\n",
    "\n",
    "# the movies file contains columns indicating the movie's genres\n",
    "# let's only load the first five columns of the file with usecols\n",
    "m_cols = ['movie_id', 'title', 'release_date', 'video_release_date', 'imdb_url']\n",
    "movies = pd.read_csv('data/ml-100k/u.item', sep='|', names=m_cols, usecols=range(5))\n",
    "\n",
    "# create one merged DataFrame\n",
    "movie_ratings = pd.merge(movies, ratings)\n",
    "lens = pd.merge(movie_ratings, users)"
   ]
  },
  {
   "cell_type": "markdown",
   "metadata": {
    "collapsed": true
   },
   "source": [
    "## Summary\n",
    "\n",
    "1. What are the 10 most rated movies ?\n",
    "2. Which movies are most controversial amongst different age ?"
   ]
  },
  {
   "cell_type": "code",
   "execution_count": 5,
   "metadata": {
    "collapsed": false,
    "scrolled": true
   },
   "outputs": [
    {
     "name": "stdout",
     "output_type": "stream",
     "text": [
      "   movie_id              title release_date  video_release_date  \\\n",
      "0         1   Toy Story (1995)  01-Jan-1995                 NaN   \n",
      "1         2   GoldenEye (1995)  01-Jan-1995                 NaN   \n",
      "2         3  Four Rooms (1995)  01-Jan-1995                 NaN   \n",
      "\n",
      "                                            imdb_url  \n",
      "0  http://us.imdb.com/M/title-exact?Toy%20Story%2...  \n",
      "1  http://us.imdb.com/M/title-exact?GoldenEye%20(...  \n",
      "2  http://us.imdb.com/M/title-exact?Four%20Rooms%...   \n",
      "\n",
      "   user_id  movie_id  rating  unix_timestamp\n",
      "0      196       242       3       881250949\n",
      "1      186       302       3       891717742\n",
      "2       22       377       1       878887116 \n",
      "\n",
      "   user_id  age sex  occupation zip_code\n",
      "0        1   24   M  technician    85711\n",
      "1        2   53   F       other    94043\n",
      "2        3   23   M      writer    32067 \n",
      "\n",
      "   movie_id              title release_date  video_release_date  \\\n",
      "0         1   Toy Story (1995)  01-Jan-1995                 NaN   \n",
      "1         4  Get Shorty (1995)  01-Jan-1995                 NaN   \n",
      "2         5     Copycat (1995)  01-Jan-1995                 NaN   \n",
      "\n",
      "                                            imdb_url  user_id  rating  \\\n",
      "0  http://us.imdb.com/M/title-exact?Toy%20Story%2...      308       4   \n",
      "1  http://us.imdb.com/M/title-exact?Get%20Shorty%...      308       5   \n",
      "2  http://us.imdb.com/M/title-exact?Copycat%20(1995)      308       4   \n",
      "\n",
      "   unix_timestamp  age sex occupation zip_code  \n",
      "0       887736532   60   M    retired    95076  \n",
      "1       887737890   60   M    retired    95076  \n",
      "2       887739608   60   M    retired    95076  \n"
     ]
    }
   ],
   "source": [
    "print movies.head(3), '\\n'\n",
    "print ratings.head(3), '\\n'\n",
    "print users.head(3)"
   ]
  },
  {
   "cell_type": "code",
   "execution_count": 6,
   "metadata": {
    "collapsed": false
   },
   "outputs": [
    {
     "name": "stdout",
     "output_type": "stream",
     "text": [
      "   movie_id                  title release_date  video_release_date  \\\n",
      "0         1       Toy Story (1995)  01-Jan-1995                 NaN   \n",
      "1         4      Get Shorty (1995)  01-Jan-1995                 NaN   \n",
      "2         5         Copycat (1995)  01-Jan-1995                 NaN   \n",
      "3         7  Twelve Monkeys (1995)  01-Jan-1995                 NaN   \n",
      "4         8            Babe (1995)  01-Jan-1995                 NaN   \n",
      "\n",
      "                                            imdb_url  user_id  rating  \\\n",
      "0  http://us.imdb.com/M/title-exact?Toy%20Story%2...      308       4   \n",
      "1  http://us.imdb.com/M/title-exact?Get%20Shorty%...      308       5   \n",
      "2  http://us.imdb.com/M/title-exact?Copycat%20(1995)      308       4   \n",
      "3  http://us.imdb.com/M/title-exact?Twelve%20Monk...      308       4   \n",
      "4     http://us.imdb.com/M/title-exact?Babe%20(1995)      308       5   \n",
      "\n",
      "   unix_timestamp  age sex occupation zip_code  \n",
      "0       887736532   60   M    retired    95076  \n",
      "1       887737890   60   M    retired    95076  \n",
      "2       887739608   60   M    retired    95076  \n",
      "3       887738847   60   M    retired    95076  \n",
      "4       887736696   60   M    retired    95076  \n"
     ]
    }
   ],
   "source": [
    "print lens.head()"
   ]
  },
  {
   "cell_type": "code",
   "execution_count": 9,
   "metadata": {
    "collapsed": false
   },
   "outputs": [
    {
     "data": {
      "text/html": [
       "<div style=\"max-height:1000px;max-width:1500px;overflow:auto;\">\n",
       "<table border=\"1\" class=\"dataframe\">\n",
       "  <thead>\n",
       "    <tr style=\"text-align: right;\">\n",
       "      <th></th>\n",
       "      <th>movie_id</th>\n",
       "      <th>video_release_date</th>\n",
       "      <th>user_id</th>\n",
       "      <th>rating</th>\n",
       "      <th>unix_timestamp</th>\n",
       "      <th>age</th>\n",
       "    </tr>\n",
       "  </thead>\n",
       "  <tbody>\n",
       "    <tr>\n",
       "      <th>count</th>\n",
       "      <td>100000.000000</td>\n",
       "      <td>0</td>\n",
       "      <td>100000.00000</td>\n",
       "      <td>100000.000000</td>\n",
       "      <td>1.000000e+05</td>\n",
       "      <td>100000.000000</td>\n",
       "    </tr>\n",
       "    <tr>\n",
       "      <th>mean</th>\n",
       "      <td>425.530130</td>\n",
       "      <td>NaN</td>\n",
       "      <td>462.48475</td>\n",
       "      <td>3.529860</td>\n",
       "      <td>8.835289e+08</td>\n",
       "      <td>32.969850</td>\n",
       "    </tr>\n",
       "    <tr>\n",
       "      <th>std</th>\n",
       "      <td>330.798356</td>\n",
       "      <td>NaN</td>\n",
       "      <td>266.61442</td>\n",
       "      <td>1.125674</td>\n",
       "      <td>5.343856e+06</td>\n",
       "      <td>11.562623</td>\n",
       "    </tr>\n",
       "    <tr>\n",
       "      <th>min</th>\n",
       "      <td>1.000000</td>\n",
       "      <td>NaN</td>\n",
       "      <td>1.00000</td>\n",
       "      <td>1.000000</td>\n",
       "      <td>8.747247e+08</td>\n",
       "      <td>7.000000</td>\n",
       "    </tr>\n",
       "    <tr>\n",
       "      <th>25%</th>\n",
       "      <td>175.000000</td>\n",
       "      <td>NaN</td>\n",
       "      <td>254.00000</td>\n",
       "      <td>3.000000</td>\n",
       "      <td>8.794487e+08</td>\n",
       "      <td>24.000000</td>\n",
       "    </tr>\n",
       "    <tr>\n",
       "      <th>50%</th>\n",
       "      <td>322.000000</td>\n",
       "      <td>NaN</td>\n",
       "      <td>447.00000</td>\n",
       "      <td>4.000000</td>\n",
       "      <td>8.828269e+08</td>\n",
       "      <td>30.000000</td>\n",
       "    </tr>\n",
       "    <tr>\n",
       "      <th>75%</th>\n",
       "      <td>631.000000</td>\n",
       "      <td>NaN</td>\n",
       "      <td>682.00000</td>\n",
       "      <td>4.000000</td>\n",
       "      <td>8.882600e+08</td>\n",
       "      <td>40.000000</td>\n",
       "    </tr>\n",
       "    <tr>\n",
       "      <th>max</th>\n",
       "      <td>1682.000000</td>\n",
       "      <td>NaN</td>\n",
       "      <td>943.00000</td>\n",
       "      <td>5.000000</td>\n",
       "      <td>8.932866e+08</td>\n",
       "      <td>73.000000</td>\n",
       "    </tr>\n",
       "  </tbody>\n",
       "</table>\n",
       "</div>"
      ],
      "text/plain": [
       "            movie_id  video_release_date       user_id         rating  \\\n",
       "count  100000.000000                   0  100000.00000  100000.000000   \n",
       "mean      425.530130                 NaN     462.48475       3.529860   \n",
       "std       330.798356                 NaN     266.61442       1.125674   \n",
       "min         1.000000                 NaN       1.00000       1.000000   \n",
       "25%       175.000000                 NaN     254.00000       3.000000   \n",
       "50%       322.000000                 NaN     447.00000       4.000000   \n",
       "75%       631.000000                 NaN     682.00000       4.000000   \n",
       "max      1682.000000                 NaN     943.00000       5.000000   \n",
       "\n",
       "       unix_timestamp            age  \n",
       "count    1.000000e+05  100000.000000  \n",
       "mean     8.835289e+08      32.969850  \n",
       "std      5.343856e+06      11.562623  \n",
       "min      8.747247e+08       7.000000  \n",
       "25%      8.794487e+08      24.000000  \n",
       "50%      8.828269e+08      30.000000  \n",
       "75%      8.882600e+08      40.000000  \n",
       "max      8.932866e+08      73.000000  "
      ]
     },
     "execution_count": 9,
     "metadata": {},
     "output_type": "execute_result"
    }
   ],
   "source": [
    "lens.describe()"
   ]
  },
  {
   "cell_type": "markdown",
   "metadata": {},
   "source": [
    "##What are the 10 most rated movies ?\n",
    "\n",
    "1. Split the DataFrame into groups by movie title \n",
    "2. Apply the `size` method to get the count of records in each group\n",
    "3. Order our results in descending order\n",
    "4. Limit the output to the top 10 using Python's slicing syntax.\n",
    "\n",
    "**using `.groupby()`**"
   ]
  },
  {
   "cell_type": "code",
   "execution_count": 5,
   "metadata": {
    "collapsed": false,
    "scrolled": true
   },
   "outputs": [
    {
     "name": "stdout",
     "output_type": "stream",
     "text": [
      "title\n",
      "Star Wars (1977)                 583\n",
      "Contact (1997)                   509\n",
      "Fargo (1996)                     508\n",
      "Return of the Jedi (1983)        507\n",
      "Liar Liar (1997)                 485\n",
      "English Patient, The (1996)      481\n",
      "Scream (1996)                    478\n",
      "Toy Story (1995)                 452\n",
      "Air Force One (1997)             431\n",
      "Independence Day (ID4) (1996)    429\n",
      "dtype: int64\n"
     ]
    }
   ],
   "source": [
    "most_rated = lens.groupby('title').size().order(ascending=False)[:10]\n",
    "print most_rated"
   ]
  },
  {
   "cell_type": "markdown",
   "metadata": {},
   "source": [
    "**using `.value_count()`**"
   ]
  },
  {
   "cell_type": "code",
   "execution_count": 7,
   "metadata": {
    "collapsed": false
   },
   "outputs": [
    {
     "data": {
      "text/plain": [
       "Star Wars (1977)                 583\n",
       "Contact (1997)                   509\n",
       "Fargo (1996)                     508\n",
       "Return of the Jedi (1983)        507\n",
       "Liar Liar (1997)                 485\n",
       "English Patient, The (1996)      481\n",
       "Scream (1996)                    478\n",
       "Toy Story (1995)                 452\n",
       "Air Force One (1997)             431\n",
       "Independence Day (ID4) (1996)    429\n",
       "dtype: int64"
      ]
     },
     "execution_count": 7,
     "metadata": {},
     "output_type": "execute_result"
    }
   ],
   "source": [
    "# using .value_count()\n",
    "lens.title.value_counts()[:10]"
   ]
  },
  {
   "cell_type": "markdown",
   "metadata": {},
   "source": [
    "## Which movies are most highly rated ?\n",
    "\n",
    "1. Split the DataFrame into groups by movie title \n",
    "2. Apply the `size` and `mean` to each group using `.agg()`method\n",
    "3. Order the results by average rating in descending order\n",
    "4. Keep only movies with at least 100 ratings\n",
    "\n",
    "We can use the `.agg()` method to pass a dictionary specifying the columns to aggregate (as keys) and a list of functions we'd like to apply."
   ]
  },
  {
   "cell_type": "code",
   "execution_count": 25,
   "metadata": {
    "collapsed": false,
    "scrolled": true
   },
   "outputs": [
    {
     "name": "stdout",
     "output_type": "stream",
     "text": [
      "                          rating          \n",
      "                            size      mean\n",
      "title                                     \n",
      "'Til There Was You (1997)      9  2.333333\n",
      "1-900 (1994)                   5  2.600000\n",
      "101 Dalmatians (1996)        109  2.908257\n",
      "12 Angry Men (1957)          125  4.344000\n",
      "187 (1997)                    41  3.024390\n"
     ]
    }
   ],
   "source": [
    "movie_stats = lens.groupby('title').agg({'rating': [np.size, np.mean]})\n",
    "print movie_stats.head()"
   ]
  },
  {
   "cell_type": "markdown",
   "metadata": {},
   "source": [
    "Let's sort the resulting DataFrame so that we can see which movies have the highest average score.<br>\n",
    "Because `movie_stats` is a DataFrame, we use the `sort` method (only Series objects use `order`).<br>\n",
    "Additionally, because our columns are now a [MultiIndex](http://pandas.pydata.org/pandas-docs/stable/indexing.html#hierarchical-indexing-multiindex), we need to pass in a tuple specifying how to sort.\n"
   ]
  },
  {
   "cell_type": "code",
   "execution_count": 26,
   "metadata": {
    "collapsed": false
   },
   "outputs": [
    {
     "name": "stdout",
     "output_type": "stream",
     "text": [
      "                                           rating     \n",
      "                                             size mean\n",
      "title                                                 \n",
      "They Made Me a Criminal (1939)                  1    5\n",
      "Marlene Dietrich: Shadow and Light (1996)       1    5\n",
      "Saint of Fort Washington, The (1993)            2    5\n",
      "Someone Else's America (1995)                   1    5\n",
      "Star Kid (1997)                                 3    5\n"
     ]
    }
   ],
   "source": [
    "print movie_stats.sort([('rating', 'mean')], ascending=False).head()"
   ]
  },
  {
   "cell_type": "markdown",
   "metadata": {},
   "source": [
    "The above movies are rated so rarely that we can't count them as quality films. Let's only look at movies that have been rated at least 100 times."
   ]
  },
  {
   "cell_type": "code",
   "execution_count": 55,
   "metadata": {
    "collapsed": false
   },
   "outputs": [
    {
     "name": "stdout",
     "output_type": "stream",
     "text": [
      "                                 rating          \n",
      "                                   size      mean\n",
      "title                                            \n",
      "Close Shave, A (1995)               112  4.491071\n",
      "Schindler's List (1993)             298  4.466443\n",
      "Wrong Trousers, The (1993)          118  4.466102\n",
      "Casablanca (1942)                   243  4.456790\n",
      "Shawshank Redemption, The (1994)    283  4.445230\n"
     ]
    }
   ],
   "source": [
    "atleast_100 = movie_stats['rating']['size'] > 100\n",
    "print movie_stats[atleast_100].sort([('rating', 'mean')], ascending=False).head()"
   ]
  },
  {
   "cell_type": "markdown",
   "metadata": {},
   "source": [
    "## Which movies are most controversial amongst different age ?\n",
    "\n",
    "1. Bin users into age groups using `pandas.cut()`\n",
    "2. Split the DataFrame into groups by age groups\n",
    "3. Apply the `size` and `mean` to each group using `.agg()`method\n",
    "4. Order the results by average rating in descending order"
   ]
  },
  {
   "cell_type": "markdown",
   "metadata": {},
   "source": [
    "**Limiting our population going forward**<br>\n",
    "Going forward, let's only look at the 50 most rated movies. Let's make a Series of movies that meet this threshold so we can use it for filtering later."
   ]
  },
  {
   "cell_type": "code",
   "execution_count": 8,
   "metadata": {
    "collapsed": true
   },
   "outputs": [],
   "source": [
    "most_50 = lens.groupby('movie_id').size().order(ascending=False)[:50]"
   ]
  },
  {
   "cell_type": "markdown",
   "metadata": {},
   "source": [
    "Let's look at how these movies are viewed across different age groups. First, let's look at how age is distributed amongst our users."
   ]
  },
  {
   "cell_type": "code",
   "execution_count": 9,
   "metadata": {
    "collapsed": true
   },
   "outputs": [],
   "source": [
    "users.age.hist(bins=30)\n",
    "plt.title(\"Distribution of users' ages\")\n",
    "plt.ylabel('count of users')\n",
    "plt.xlabel('age');"
   ]
  },
  {
   "cell_type": "code",
   "execution_count": 10,
   "metadata": {
    "collapsed": false,
    "scrolled": false
   },
   "outputs": [
    {
     "name": "stdout",
     "output_type": "stream",
     "text": [
      "     age age_group\n",
      "0     60     60-69\n",
      "397   21     20-29\n",
      "459   33     30-39\n",
      "524   30     30-39\n",
      "782   23     20-29\n"
     ]
    }
   ],
   "source": [
    "labels = ['0-9', '10-19', '20-29', '30-39', '40-49', '50-59', '60-69', '70-79']\n",
    "bins = range(0, 81, 10) # [0, 10, 20, 30, 40, 50, 60, 70, 80]\n",
    "lens['age_group'] = pd.cut(lens.age, bins, right=False, labels=labels)\n",
    "print lens[['age', 'age_group']].drop_duplicates()[:5] # preview of age bin"
   ]
  },
  {
   "cell_type": "markdown",
   "metadata": {},
   "source": [
    "Now we can now compare ratings across age groups."
   ]
  },
  {
   "cell_type": "code",
   "execution_count": 62,
   "metadata": {
    "collapsed": false,
    "scrolled": true
   },
   "outputs": [
    {
     "name": "stdout",
     "output_type": "stream",
     "text": [
      "          rating          \n",
      "            size      mean\n",
      "age_group                 \n",
      "0-9           43  3.767442\n",
      "10-19       8181  3.486126\n",
      "20-29      39535  3.467333\n",
      "30-39      25696  3.554444\n",
      "40-49      15021  3.591772\n",
      "50-59       8704  3.635800\n",
      "60-69       2623  3.648875\n",
      "70-79        197  3.649746\n"
     ]
    }
   ],
   "source": [
    "print lens.groupby('age_group').agg({'rating': [np.size, np.mean]})"
   ]
  },
  {
   "cell_type": "markdown",
   "metadata": {},
   "source": [
    "Young users seem a bit more critical than other age groups. Let's look at how the 50 most rated movies are viewed across each age group. We can use the `most_50` Series we created earlier for filtering."
   ]
  },
  {
   "cell_type": "code",
   "execution_count": 63,
   "metadata": {
    "collapsed": true
   },
   "outputs": [],
   "source": [
    "lens.set_index('movie_id', inplace=True)"
   ]
  },
  {
   "cell_type": "code",
   "execution_count": 64,
   "metadata": {
    "collapsed": false,
    "scrolled": true
   },
   "outputs": [
    {
     "data": {
      "text/plain": [
       "title                 age_group\n",
       "Air Force One (1997)  10-19        3.647059\n",
       "                      20-29        3.666667\n",
       "                      30-39        3.570000\n",
       "                      40-49        3.555556\n",
       "                      50-59        3.750000\n",
       "                      60-69        3.666667\n",
       "                      70-79        3.666667\n",
       "Alien (1979)          10-19        4.111111\n",
       "                      20-29        4.026087\n",
       "                      30-39        4.103448\n",
       "                      40-49        3.833333\n",
       "                      50-59        4.272727\n",
       "                      60-69        3.500000\n",
       "                      70-79        4.000000\n",
       "Aliens (1986)         10-19        4.050000\n",
       "Name: rating, dtype: float64"
      ]
     },
     "execution_count": 64,
     "metadata": {},
     "output_type": "execute_result"
    }
   ],
   "source": [
    "by_age = lens.ix[most_50.index].groupby(['title', 'age_group'])\n",
    "by_age.rating.mean().head(15)"
   ]
  },
  {
   "cell_type": "markdown",
   "metadata": {},
   "source": [
    "Notice that both the title and age group are indexes here, with the average rating value being a Series. This is going to produce a really long list of values.\n",
    "\n",
    "Wouldn't it be nice to see the data as a table? Each title as a row, each age group as a column, and the average rating in each cell.\n",
    "\n",
    "Behold! The magic of `unstack`!"
   ]
  },
  {
   "cell_type": "code",
   "execution_count": 66,
   "metadata": {
    "collapsed": false
   },
   "outputs": [
    {
     "data": {
      "text/html": [
       "<div style=\"max-height:1000px;max-width:1500px;overflow:auto;\">\n",
       "<table border=\"1\" class=\"dataframe\">\n",
       "  <thead>\n",
       "    <tr style=\"text-align: right;\">\n",
       "      <th>age_group</th>\n",
       "      <th>0-9</th>\n",
       "      <th>10-19</th>\n",
       "      <th>20-29</th>\n",
       "      <th>30-39</th>\n",
       "      <th>40-49</th>\n",
       "      <th>50-59</th>\n",
       "      <th>60-69</th>\n",
       "      <th>70-79</th>\n",
       "    </tr>\n",
       "    <tr>\n",
       "      <th>title</th>\n",
       "      <th></th>\n",
       "      <th></th>\n",
       "      <th></th>\n",
       "      <th></th>\n",
       "      <th></th>\n",
       "      <th></th>\n",
       "      <th></th>\n",
       "      <th></th>\n",
       "    </tr>\n",
       "  </thead>\n",
       "  <tbody>\n",
       "    <tr>\n",
       "      <th>E.T. the Extra-Terrestrial (1982)</th>\n",
       "      <td>NaN</td>\n",
       "      <td>3.680000</td>\n",
       "      <td>3.609091</td>\n",
       "      <td>3.806818</td>\n",
       "      <td>4.160000</td>\n",
       "      <td>4.368421</td>\n",
       "      <td>4.375000</td>\n",
       "      <td>NaN</td>\n",
       "    </tr>\n",
       "    <tr>\n",
       "      <th>Empire Strikes Back, The (1980)</th>\n",
       "      <td>4</td>\n",
       "      <td>4.642857</td>\n",
       "      <td>4.311688</td>\n",
       "      <td>4.052083</td>\n",
       "      <td>4.100000</td>\n",
       "      <td>3.909091</td>\n",
       "      <td>4.250000</td>\n",
       "      <td>5.000000</td>\n",
       "    </tr>\n",
       "    <tr>\n",
       "      <th>English Patient, The (1996)</th>\n",
       "      <td>5</td>\n",
       "      <td>3.739130</td>\n",
       "      <td>3.571429</td>\n",
       "      <td>3.621849</td>\n",
       "      <td>3.634615</td>\n",
       "      <td>3.774648</td>\n",
       "      <td>3.904762</td>\n",
       "      <td>4.500000</td>\n",
       "    </tr>\n",
       "    <tr>\n",
       "      <th>Fargo (1996)</th>\n",
       "      <td>NaN</td>\n",
       "      <td>3.937500</td>\n",
       "      <td>4.010471</td>\n",
       "      <td>4.230769</td>\n",
       "      <td>4.294118</td>\n",
       "      <td>4.442308</td>\n",
       "      <td>4.000000</td>\n",
       "      <td>4.333333</td>\n",
       "    </tr>\n",
       "    <tr>\n",
       "      <th>Forrest Gump (1994)</th>\n",
       "      <td>5</td>\n",
       "      <td>4.047619</td>\n",
       "      <td>3.785714</td>\n",
       "      <td>3.861702</td>\n",
       "      <td>3.847826</td>\n",
       "      <td>4.000000</td>\n",
       "      <td>3.800000</td>\n",
       "      <td>NaN</td>\n",
       "    </tr>\n",
       "    <tr>\n",
       "      <th>Fugitive, The (1993)</th>\n",
       "      <td>NaN</td>\n",
       "      <td>4.320000</td>\n",
       "      <td>3.969925</td>\n",
       "      <td>3.981481</td>\n",
       "      <td>4.190476</td>\n",
       "      <td>4.240000</td>\n",
       "      <td>3.666667</td>\n",
       "      <td>NaN</td>\n",
       "    </tr>\n",
       "    <tr>\n",
       "      <th>Full Monty, The (1997)</th>\n",
       "      <td>NaN</td>\n",
       "      <td>3.421053</td>\n",
       "      <td>4.056818</td>\n",
       "      <td>3.933333</td>\n",
       "      <td>3.714286</td>\n",
       "      <td>4.146341</td>\n",
       "      <td>4.166667</td>\n",
       "      <td>3.500000</td>\n",
       "    </tr>\n",
       "    <tr>\n",
       "      <th>Godfather, The (1972)</th>\n",
       "      <td>NaN</td>\n",
       "      <td>4.400000</td>\n",
       "      <td>4.345070</td>\n",
       "      <td>4.412844</td>\n",
       "      <td>3.929412</td>\n",
       "      <td>4.463415</td>\n",
       "      <td>4.125000</td>\n",
       "      <td>NaN</td>\n",
       "    </tr>\n",
       "    <tr>\n",
       "      <th>Groundhog Day (1993)</th>\n",
       "      <td>NaN</td>\n",
       "      <td>3.476190</td>\n",
       "      <td>3.798246</td>\n",
       "      <td>3.786667</td>\n",
       "      <td>3.851064</td>\n",
       "      <td>3.571429</td>\n",
       "      <td>3.571429</td>\n",
       "      <td>4.000000</td>\n",
       "    </tr>\n",
       "    <tr>\n",
       "      <th>Independence Day (ID4) (1996)</th>\n",
       "      <td>NaN</td>\n",
       "      <td>3.595238</td>\n",
       "      <td>3.291429</td>\n",
       "      <td>3.389381</td>\n",
       "      <td>3.718750</td>\n",
       "      <td>3.888889</td>\n",
       "      <td>2.750000</td>\n",
       "      <td>NaN</td>\n",
       "    </tr>\n",
       "  </tbody>\n",
       "</table>\n",
       "</div>"
      ],
      "text/plain": [
       "age_group                          0-9     10-19     20-29     30-39  \\\n",
       "title                                                                  \n",
       "E.T. the Extra-Terrestrial (1982)  NaN  3.680000  3.609091  3.806818   \n",
       "Empire Strikes Back, The (1980)      4  4.642857  4.311688  4.052083   \n",
       "English Patient, The (1996)          5  3.739130  3.571429  3.621849   \n",
       "Fargo (1996)                       NaN  3.937500  4.010471  4.230769   \n",
       "Forrest Gump (1994)                  5  4.047619  3.785714  3.861702   \n",
       "Fugitive, The (1993)               NaN  4.320000  3.969925  3.981481   \n",
       "Full Monty, The (1997)             NaN  3.421053  4.056818  3.933333   \n",
       "Godfather, The (1972)              NaN  4.400000  4.345070  4.412844   \n",
       "Groundhog Day (1993)               NaN  3.476190  3.798246  3.786667   \n",
       "Independence Day (ID4) (1996)      NaN  3.595238  3.291429  3.389381   \n",
       "\n",
       "age_group                             40-49     50-59     60-69     70-79  \n",
       "title                                                                      \n",
       "E.T. the Extra-Terrestrial (1982)  4.160000  4.368421  4.375000       NaN  \n",
       "Empire Strikes Back, The (1980)    4.100000  3.909091  4.250000  5.000000  \n",
       "English Patient, The (1996)        3.634615  3.774648  3.904762  4.500000  \n",
       "Fargo (1996)                       4.294118  4.442308  4.000000  4.333333  \n",
       "Forrest Gump (1994)                3.847826  4.000000  3.800000       NaN  \n",
       "Fugitive, The (1993)               4.190476  4.240000  3.666667       NaN  \n",
       "Full Monty, The (1997)             3.714286  4.146341  4.166667  3.500000  \n",
       "Godfather, The (1972)              3.929412  4.463415  4.125000       NaN  \n",
       "Groundhog Day (1993)               3.851064  3.571429  3.571429  4.000000  \n",
       "Independence Day (ID4) (1996)      3.718750  3.888889  2.750000       NaN  "
      ]
     },
     "execution_count": 66,
     "metadata": {},
     "output_type": "execute_result"
    }
   ],
   "source": [
    "by_age.rating.mean().unstack(1)[10:20]"
   ]
  },
  {
   "cell_type": "markdown",
   "metadata": {},
   "source": [
    "`unstack`, well, unstacks the specified level of a [MultiIndex](http://pandas.pydata.org/pandas-docs/stable/indexing.html#hierarchical-indexing-multiindex) (by default, `groupby` turns the grouped field into an index - since we grouped by two fields, it became a MultiIndex). We unstacked the second index (remember that Python uses 0-based indexes), and then filled in NULL values with 0.\n",
    "\n",
    "If we would have used:\n",
    "```python\n",
    "    by_age.rating.mean().unstack(0).fillna(0)\n",
    "```\n",
    "We would have had our age groups as rows and movie titles as columns."
   ]
  },
  {
   "cell_type": "markdown",
   "metadata": {},
   "source": [
    "**Which movies do men and women most disagree on?**\n",
    "\n",
    "DataFrame's have a *pivot_table* method that makes these kinds of operations much easier (and less verbose)."
   ]
  },
  {
   "cell_type": "code",
   "execution_count": 67,
   "metadata": {
    "collapsed": true
   },
   "outputs": [],
   "source": [
    "lens.reset_index('movie_id', inplace=True)"
   ]
  },
  {
   "cell_type": "code",
   "execution_count": 78,
   "metadata": {
    "collapsed": false
   },
   "outputs": [
    {
     "name": "stdout",
     "output_type": "stream",
     "text": [
      "sex                                F         M\n",
      "movie_id title                                \n",
      "1        Toy Story (1995)   3.789916  3.909910\n",
      "2        GoldenEye (1995)   3.368421  3.178571\n",
      "3        Four Rooms (1995)  2.687500  3.108108\n",
      "4        Get Shorty (1995)  3.400000  3.591463\n",
      "5        Copycat (1995)     3.772727  3.140625\n"
     ]
    }
   ],
   "source": [
    "pivoted = pd.pivot_table(lens, values='rating', index=['movie_id', 'title'],\n",
    "...                     columns=['sex'], fill_value=0)\n",
    "print pivoted.head()"
   ]
  },
  {
   "cell_type": "code",
   "execution_count": 79,
   "metadata": {
    "collapsed": false
   },
   "outputs": [
    {
     "name": "stdout",
     "output_type": "stream",
     "text": [
      "sex                                F         M      diff\n",
      "movie_id title                                          \n",
      "1        Toy Story (1995)   3.789916  3.909910  0.119994\n",
      "2        GoldenEye (1995)   3.368421  3.178571 -0.189850\n",
      "3        Four Rooms (1995)  2.687500  3.108108  0.420608\n",
      "4        Get Shorty (1995)  3.400000  3.591463  0.191463\n",
      "5        Copycat (1995)     3.772727  3.140625 -0.632102\n"
     ]
    }
   ],
   "source": [
    "pivoted['diff'] = pivoted.M - pivoted.F\n",
    "print pivoted.head()"
   ]
  },
  {
   "cell_type": "code",
   "execution_count": 80,
   "metadata": {
    "collapsed": true
   },
   "outputs": [],
   "source": [
    "pivoted.reset_index('movie_id', inplace=True)"
   ]
  },
  {
   "cell_type": "code",
   "execution_count": 81,
   "metadata": {
    "collapsed": true
   },
   "outputs": [],
   "source": [
    "disagreements = pivoted[pivoted.movie_id.isin(most_50.index)]['diff']\n",
    "disagreements.order().plot(kind='barh', figsize=[9, 15])\n",
    "plt.title('Male vs. Female Avg. Ratings\\n(Difference > 0 = Favored by Men)')\n",
    "plt.ylabel('Title')\n",
    "plt.xlabel('Average Rating Difference');"
   ]
  }
 ],
 "metadata": {
  "kernelspec": {
   "display_name": "Python 2",
   "language": "python",
   "name": "python2"
  },
  "language_info": {
   "codemirror_mode": {
    "name": "ipython",
    "version": 2
   },
   "file_extension": ".py",
   "mimetype": "text/x-python",
   "name": "python",
   "nbconvert_exporter": "python",
   "pygments_lexer": "ipython2",
   "version": "2.7.9"
  }
 },
 "nbformat": 4,
 "nbformat_minor": 0
}
